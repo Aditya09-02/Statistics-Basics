{
  "nbformat": 4,
  "nbformat_minor": 0,
  "metadata": {
    "colab": {
      "provenance": []
    },
    "kernelspec": {
      "name": "python3",
      "display_name": "Python 3"
    },
    "language_info": {
      "name": "python"
    }
  },
  "cells": [
    {
      "cell_type": "markdown",
      "source": [
        "Q1. Explain the different types of data (qualitative and quantitative) and provide examples of each. Discuss nominal, ordinal, interval, and ratio scales ?"
      ],
      "metadata": {
        "id": "o4LMhOKJ1YiC"
      }
    },
    {
      "cell_type": "markdown",
      "source": [
        "Ans.  Types of Data:\n",
        "\n",
        "1. Qualitative Data (Categorical Data)\n",
        "\n",
        "Definition: Describes qualities or characteristics. It cannot be measured with numbers in a meaningful way.\n",
        "\n",
        "Examples:\n",
        "\n",
        "(A) Hair color (blonde, black, brown)\n",
        "\n",
        "(B) Eye color (blue, green)\n",
        "\n",
        "(C) Nationality (American, Canadian, Indian)\n",
        "\n",
        "(D) Brand names (Nike, Adidas)\n",
        "\n",
        "\n",
        "\n",
        "2. Quantitative Data (Numerical Data)\n",
        "\n",
        "Definition: Represents quantities and can be measured and expressed numerically.\n",
        "\n",
        "Examples:\n",
        "\n",
        "(A) Age (21 years)\n",
        "\n",
        "(B) Height (5 feet 7 inches)\n",
        "\n",
        "(C) Income ($45,000 per year)\n",
        "\n",
        "(D) Number of pets (2 dogs)\n",
        "\n",
        "\n",
        "\n",
        "Scales of Measurement:\n",
        "\n",
        "There are four main scales used to classify data: nominal, ordinal, interval, and ratio.\n",
        "\n",
        "1. Nominal Scale (Qualitative)\n",
        "\n",
        "Definition: Categories with no order or ranking between them.\n",
        "\n",
        "Examples:\n",
        "\n",
        "(A) Types of fruit (apple, banana, cherry)\n",
        "\n",
        "(B) Blood type (A, B, AB, O)\n",
        "\n",
        "Key Point: Only names or labels; no logical order.\n",
        "\n",
        "\n",
        "2. Ordinal Scale (Qualitative or Ranked)\n",
        "\n",
        "Definition: Categories with a meaningful order, but no consistent difference between levels.\n",
        "\n",
        "Examples:\n",
        "\n",
        "(A) Customer satisfaction ratings (satisfied, neutral, dissatisfied)\n",
        "\n",
        "(B) Race positions (1st, 2nd, 3rd)\n",
        "\n",
        "Key Point: You know the order, but not the exact difference between ranks.\n",
        "\n",
        "\n",
        "3. Interval Scale (Quantitative)\n",
        "\n",
        "Definition: Ordered values with equal intervals, but no true zero point.\n",
        "\n",
        "Examples:\n",
        "\n",
        "(A) Temperature in Celsius or Fahrenheit (0°C doesn’t mean “no temperature”)\n",
        "\n",
        "(B) Dates on a calendar (e.g., 2000 AD, 2025 AD)\n",
        "\n",
        "Key Point: You can add and subtract, but not multiply/divide meaningfully.\n",
        "\n",
        "\n",
        "4. Ratio Scale (Quantitative)\n",
        "\n",
        "Definition: Like interval data but with a true zero, so you can meaningfully multiply and divide.\n",
        "\n",
        "Examples:\n",
        "\n",
        "(A) Height (0 height = absence of height)\n",
        "\n",
        "(B) Weight (0 kg = no weight)\n",
        "\n",
        "(C) Age (0 years = birth)\n",
        "\n",
        "Key Point: True zero makes all math operations meaningful (e.g., \"twice as tall\").\n",
        "\n",
        "\n",
        "\n"
      ],
      "metadata": {
        "id": "EvMiLFJJ1oE7"
      }
    },
    {
      "cell_type": "markdown",
      "source": [
        "Q2. What are the measures of central tendency, and when should you use each? Discuss the mean, median, and mode with examples and situations where each is appropriate ?"
      ],
      "metadata": {
        "id": "nmgNSIn74hVP"
      }
    },
    {
      "cell_type": "markdown",
      "source": [
        "Ans.  Measures of Central Tendency:\n",
        "They describe the center of a data set.\n",
        "\n",
        "1. Mean (Average)\n",
        "\n",
        "(A) Definition: Sum of all values ÷ number of values.\n",
        "\n",
        "(B) Example: (2 + 4 + 6) ÷ 3 = 4.\n",
        "\n",
        "(C) Use when: Data is symmetrical (no extreme outliers).\n",
        "\n",
        "(D) Example situation: Test scores in a regular class.\n",
        "\n",
        "\n",
        "\n",
        "2. Median (Middle value)\n",
        "\n",
        "(A) Definition: The middle number when values are ordered.\n",
        "\n",
        "(B) Example: 2, 4, 6 → Median is 4.\n",
        "\n",
        "(C) Use when: Data has outliers or is skewed.\n",
        "\n",
        "(D) Example situation: House prices in a city (where one mansion could skew the average).\n",
        "\n",
        "\n",
        "3. Mode (Most frequent value)\n",
        "\n",
        "(A) Definition: The value that appears most often.\n",
        "\n",
        "(B) Example: 2, 4, 4, 6 → Mode is 4.\n",
        "\n",
        "(C) Use when: Finding the most common category.\n",
        "\n",
        "(D) Example situation: Most common shoe size sold in a store.\n",
        "\n",
        "\n",
        "\n",
        "\n"
      ],
      "metadata": {
        "id": "r0N4iDgV4nO_"
      }
    },
    {
      "cell_type": "markdown",
      "source": [
        "Q3. Explain the concept of dispersion. How do variance and standard deviation measure the spread of data ?"
      ],
      "metadata": {
        "id": "mJx6mRHZ5UoH"
      }
    },
    {
      "cell_type": "markdown",
      "source": [
        "Ans. Concept of Dispersion:\n",
        "\n",
        "(A) Dispersion shows how spread out the data values are around the center (mean, median, etc.).\n",
        "\n",
        "(B) It tells us whether data points are close together or widely scattered.\n",
        "\n",
        "\n",
        "\n",
        "Variance:\n",
        "\n",
        "\n",
        "(A) Definition: The average of the squared differences from the mean.\n",
        "\n",
        "(B) Purpose: Shows how much the data values differ from the mean.\n",
        "\n",
        "(C) Example: If the variance is large, data points are far apart.\n",
        "\n",
        "\n",
        "\n",
        "Standard Deviation (SD):\n",
        "\n",
        "\n",
        "\n",
        "(A)Definition: The square root of the variance.\n",
        "\n",
        "(B)Purpose: Tells us the average distance of data points from the mean — in original units (easier to interpret than variance).\n",
        "\n",
        "(C)Example:\n",
        "\n",
        "1. Small SD → data points are close to mean.\n",
        "\n",
        "2. Large SD → data points are spread out.\n",
        "\n",
        "\n",
        "\n",
        "Quick Example:\n",
        "\n",
        "\n",
        "(A) Mean height = 170 cm.\n",
        "\n",
        "(B) If SD = 2 cm → most people are between 168–172 cm (tight group).\n",
        "\n",
        "(C) If SD = 10 cm → people range more widely (160–180 cm).\n",
        "\n",
        "\n",
        "\n",
        "\n"
      ],
      "metadata": {
        "id": "PZ8dP1aY5cmP"
      }
    },
    {
      "cell_type": "markdown",
      "source": [
        "Q4. What is a box plot, and what can it tell you about the distribution of data ?"
      ],
      "metadata": {
        "id": "y_3R9NU-5_jv"
      }
    },
    {
      "cell_type": "markdown",
      "source": [
        "Ans. Box Plot (Box-and-Whisker Plot):\n",
        "\n",
        "(A) A graphical summary of data showing the spread and center.\n",
        "\n",
        "(B) Displays five key numbers:\n",
        "\n",
        "1. Minimum\n",
        "\n",
        "2. 1st Quartile (Q1)\n",
        "\n",
        "3. Median (Q2)\n",
        "\n",
        "4. 3rd Quartile (Q3)\n",
        "\n",
        "5. Maximum\n",
        "\n",
        "\n",
        "What it tells you:\n",
        "\n",
        "\n",
        "(A) Center: Where the middle of the data is (median).\n",
        "\n",
        "(B) Spread: How wide or tight the data is (range, IQR).\n",
        "\n",
        "1. Skewness:\n",
        "\n",
        "(A) If the box is shifted left or right, the data is skewed.\n",
        "\n",
        "2. Outliers:\n",
        "\n",
        "(A) Dots outside the \"whiskers\" show extreme values.\n",
        "\n",
        "Quick Tip:\n",
        "\n",
        "1. Short box: Data is tightly grouped.\n",
        "\n",
        "2. Long box: Data is more spread out.\n",
        "\n",
        "3. Whiskers uneven: Skewed distribution.\n",
        "\n",
        "\n",
        "\n"
      ],
      "metadata": {
        "id": "xAoAHmkz6Iou"
      }
    },
    {
      "cell_type": "markdown",
      "source": [
        "Q5.  Discuss the role of random sampling in making inferences about populations ?"
      ],
      "metadata": {
        "id": "febm__0p6ynn"
      }
    },
    {
      "cell_type": "markdown",
      "source": [
        "Ans.  Role of Random Sampling:\n",
        "\n",
        "1. Random sampling means every member of the population has an equal chance of being selected.\n",
        "\n",
        "2. It helps create a representative sample that reflects the whole population.\n",
        "\n",
        "\n",
        "Why it’s important:\n",
        "\n",
        "\n",
        "1. Reduces bias in the results.\n",
        "\n",
        "2. Increases accuracy of predictions about the population.\n",
        "\n",
        "3. Allows you to make valid inferences (generalizations) from the sample to the entire group.\n",
        "\n",
        "\n",
        "Quick Example:\n",
        "\n",
        "1. Surveying 100 random students gives a better picture of the entire school than just picking your friends.\n",
        "\n",
        "\n",
        "\n",
        "\n",
        "\n"
      ],
      "metadata": {
        "id": "8Ex1zZp_607l"
      }
    },
    {
      "cell_type": "markdown",
      "source": [
        "Q6. Explain the concept of skewness and its types. How does skewness affect the interpretation of data ?"
      ],
      "metadata": {
        "id": "cf80DkVk7Iml"
      }
    },
    {
      "cell_type": "markdown",
      "source": [
        "Ans. Skewness:\n",
        "1. Skewness refers to the asymmetry in a data distribution.\n",
        "\n",
        "2. It tells you if the data is balanced or shifted to one side.\n",
        "\n",
        "\n",
        "\n",
        "Types of Skewness:\n",
        "\n",
        "\n",
        "1. Positive Skew (Right Skewed):\n",
        "\n",
        "(A) Tail is longer on the right.\n",
        "\n",
        "(B) Mean > Median.\n",
        "\n",
        "(C) Example: Income distribution (a few high earners pull the average up).\n",
        "\n",
        "\n",
        "2. Negative Skew (Left Skewed):\n",
        "\n",
        "(A) Tail is longer on the left.\n",
        "\n",
        "(B) Mean < Median.\n",
        "\n",
        "(C) Example: Test scores where most students perform well.\n",
        "\n",
        "\n",
        "3. No Skew (Symmetrical):\n",
        "\n",
        "(A) Balanced distribution.\n",
        "\n",
        "(B) Mean = Median.\n",
        "\n",
        "(C) Example: Normal distribution (bell curve).\n",
        "\n",
        "\n",
        "\n",
        "\n",
        "Impact on Interpretation:\n",
        "\n",
        "1. Positive Skew: Mean is higher than the typical value. It can overestimate the \"average.\"\n",
        "\n",
        "2. Negative Skew: Mean is lower than the typical value. It can underestimate the \"average.\"\n",
        "\n",
        "3. Skewness affects which average (mean, median) is more representative."
      ],
      "metadata": {
        "id": "ItW32Y7E8OZ9"
      }
    },
    {
      "cell_type": "markdown",
      "source": [
        "Q7.  What is the interquartile range (IQR), and how is it used to detect outliers ?"
      ],
      "metadata": {
        "id": "ob9WT07688NW"
      }
    },
    {
      "cell_type": "markdown",
      "source": [
        "Ans.  Interquartile Range (IQR):\n",
        "\n",
        "1. The IQR measures the spread of the middle 50% of the data.\n",
        "\n",
        "2. Formula:\n",
        "IQR = Q3 - Q1\n",
        "\n",
        "\n",
        "Where:\n",
        "\n",
        "1. Q1 is the 1st Quartile (25th percentile)\n",
        "\n",
        "2. Q3 is the 3rd Quartile (75th percentile)\n",
        "\n",
        "\n",
        "Using IQR to Detect Outliers:\n",
        "\n",
        "1. Outliers are values that fall outside a certain range:\n",
        "\n",
        "(A) Lower bound = Q1 - 1.5 × IQR\n",
        "\n",
        "(B) Upper bound = Q3 + 1.5 × IQR\n",
        "\n",
        "2. Data points outside this range are considered outliers.\n",
        "\n",
        "\n",
        "Quick Example:\n",
        "\n",
        "\n",
        "1. If IQR = 10, and Q1 = 20, Q3 = 30:\n",
        "\n",
        "\n",
        "(A) Lower bound = 20 - (1.5 × 10) = 5\n",
        "\n",
        "(B) Upper bound = 30 + (1.5 × 10) = 45\n",
        "\n",
        "(C) Any data point < 5 or > 45 is an outlier."
      ],
      "metadata": {
        "id": "K-VVTQJr9F80"
      }
    },
    {
      "cell_type": "markdown",
      "source": [
        "Q8. Discuss the conditions under which the binomial distribution is used ?"
      ],
      "metadata": {
        "id": "JOrN1noj9u0s"
      }
    },
    {
      "cell_type": "markdown",
      "source": [
        "Ans.  Conditions for Using Binomial Distribution:\n",
        "\n",
        "\n",
        "The binomial distribution is used when the following conditions are met:\n",
        "\n",
        "(A) Fixed Number of Trials (n):\n",
        "\n",
        "1.  The experiment is repeated a specific number of times.\n",
        "\n",
        "(B) Two Possible Outcomes (Success/Failure):\n",
        "\n",
        "1.  Each trial has only two possible outcomes (e.g., heads/tails, yes/no).\n",
        "\n",
        "(C) Constant Probability of Success (p):\n",
        "\n",
        "1.  The probability of success (e.g., getting a head, rolling a 6) is the same for each trial.\n",
        "\n",
        "(D) Independent Trials:\n",
        "\n",
        "1. The outcome of one trial does not affect the others.\n",
        "\n",
        "\n",
        "\n",
        "Quick Example:\n",
        "\n",
        "1. Flipping a coin 10 times:\n",
        "\n",
        "(A) n = 10 trials\n",
        "\n",
        "(B) p = 0.5 for heads\n",
        "\n",
        "(C) Two outcomes: heads or tails\n",
        "\n"
      ],
      "metadata": {
        "id": "M2uIXW0M9ynq"
      }
    },
    {
      "cell_type": "markdown",
      "source": [
        "Q9.  Explain the properties of the normal distribution and the empirical rule (68-95-99.7 rule) ?"
      ],
      "metadata": {
        "id": "U5fmCg3Q-eiv"
      }
    },
    {
      "cell_type": "markdown",
      "source": [
        "Ans. Properties of the Normal Distribution:\n",
        "\n",
        "1. Symmetry: The distribution is symmetric around the mean (the left and right sides are mirror images).\n",
        "\n",
        "2. Bell-shaped Curve: The graph forms a bell shape, where most values cluster around the mean.\n",
        "\n",
        "3. Mean, Median, Mode: In a perfect normal distribution, the mean = median = mode.\n",
        "\n",
        "4. Tails: The tails approach but never touch the horizontal axis (i.e., the probability never reaches zero).\n",
        "\n",
        "5. Defined by Mean and Standard Deviation: The shape of the curve is determined by the mean (µ) and standard deviation (σ).\n",
        "\n",
        "\n",
        "\n",
        "Empirical Rule (68-95-99.7 Rule):\n",
        "\n",
        "(A)  This rule applies to normal distributions and describes the spread of data:\n",
        "\n",
        "\n",
        "1. 68% of the data falls within 1 standard deviation of the mean (µ ± σ).\n",
        "\n",
        "2. 95% of the data falls within 2 standard deviations (µ ± 2σ).\n",
        "\n",
        "3. 99.7% of the data falls within 3 standard deviations (µ ± 3σ).\n",
        "\n",
        "\n",
        "\n",
        "Quick Example:\n",
        "\n",
        "(A) For a normal distribution with mean = 50 and SD = 5:\n",
        "\n",
        "1. 68% of values are between 45 and 55 (50 ± 5).\n",
        "\n",
        "2. 95% of values are between 40 and 60 (50 ± 10).\n",
        "\n",
        "3. 99.7% of values are between 35 and 65 (50 ± 15)."
      ],
      "metadata": {
        "id": "kwqqsG6u-nRa"
      }
    },
    {
      "cell_type": "markdown",
      "source": [
        "Q10. Provide a real-life example of a Poisson process and calculate the probability for a specific event ?"
      ],
      "metadata": {
        "id": "2FehfoWP_C9a"
      }
    },
    {
      "cell_type": "markdown",
      "source": [
        "Ans.   Real-Life Example of a Poisson Process:\n",
        "\n",
        "\n",
        "(A) Example: The number of calls received by a call center in an hour.\n",
        "\n",
        "1. If on average, the call center receives 3 calls per hour, the number of calls in a given hour follows a Poisson distribution.\n",
        "\n",
        "\n",
        "Poisson Distribution Formula:\n",
        "\n",
        "The probability of k events happening in a fixed interval (like 1 hour) is given by:\n",
        "\n",
        "“P(k)\\=k!λke−λ​”\n",
        "\n",
        "\n",
        "Where:\n",
        "\n",
        "1. λ (lambda) = average number of events in the interval (mean rate of occurrence).\n",
        "\n",
        "2. k = the specific number of events you're calculating the probability for.\n",
        "\n",
        "3. e = Euler’s number (~2.718).\n",
        "\n",
        "\n",
        "\n",
        "Example Calculation:\n",
        "\n",
        "Let’s calculate the probability of receiving exactly 2 calls in an hour, with an average of 3 calls per hour.\n",
        "\n",
        "1. λ = 3, k = 2.\n",
        "\n",
        "\n",
        "“P(2)\\=2!32e−3​\\=29×0.0498​≈0.2241”\n",
        "\n",
        "\n",
        "\n",
        "So, the probability of receiving exactly 2 calls in an hour is 0.2241 (or 22.41%).\n",
        "\n",
        "\n",
        "\n"
      ],
      "metadata": {
        "id": "VwN5s4yI_FWC"
      }
    },
    {
      "cell_type": "markdown",
      "source": [
        "Q11.  Explain what a random variable is and differentiate between discrete and continuous random variables ?"
      ],
      "metadata": {
        "id": "RhNUIdUI_rAb"
      }
    },
    {
      "cell_type": "markdown",
      "source": [
        "Ans.  Random Variable:\n",
        "\n",
        "A random variable is a variable whose value is determined by a random experiment or process. It represents the outcomes of random phenomena and can be either discrete or continuous.\n",
        "\n",
        "Types of Random Variables:\n",
        "\n",
        "\n",
        "1. Discrete Random Variable:\n",
        "\n",
        "(A) Takes on specific, countable values (e.g., integers).\n",
        "\n",
        "(B) Examples: Number of heads in 5 coin tosses, number of students in a class.\n",
        "\n",
        "\n",
        "2. Continuous Random Variable:\n",
        "\n",
        "(A) Takes on any value within a given range (e.g., real numbers).\n",
        "\n",
        "(B) Examples: Height, weight, temperature, time.\n",
        "\n",
        "\n",
        "\n",
        "Key Difference:\n",
        "\n",
        "1. Discrete: Countable values (e.g., 0, 1, 2, 3...).\n",
        "\n",
        "2. Continuous: Any value within a range (e.g., 2.5, 3.14, 6.7...)."
      ],
      "metadata": {
        "id": "cxHgt5ln_tdQ"
      }
    },
    {
      "cell_type": "markdown",
      "source": [
        "Q12.  Provide an example dataset, calculate both covariance and correlation, and interpret the results ?"
      ],
      "metadata": {
        "id": "FUcGPju2AJHp"
      }
    },
    {
      "cell_type": "markdown",
      "source": [
        "Ans.  Example Dataset:\n",
        "\n",
        "Let’s consider a dataset of study hours (X) and exercise hours (Y) for 5 individuals:\n",
        "\n",
        "Individual | Study Hours (X) | Exercise Hours (Y)\n",
        "\n",
        "1          | 2               | 1\n",
        "\n",
        "2          | 3               | 2\n",
        "\n",
        "3          | 4               | 3\n",
        "\n",
        "4          | 5               | 4\n",
        "\n",
        "5          | 6               | 5\n",
        "\n",
        "\n",
        "\n",
        "1. Covariance:\n",
        "\n",
        "Covariance measures the relationship between two variables (X and Y).\n",
        "\n",
        "Formula:\n",
        "\n",
        "“Cov(X,Y)\\=n∑(Xi​−Xˉ)(Yi​−Yˉ)​”\n",
        "\n",
        "Where:\n",
        "\n",
        "1. Xˉ and 𝑌ˉ are the means of X and Y.\n",
        "\n",
        "2. 𝑛 is the number of data points.\n",
        "\n",
        "\n",
        "2. Correlation:\n",
        "\n",
        "Correlation measures the strength and direction of the linear relationship between two variables.\n",
        "\n",
        "Formula:\n",
        "\n",
        "“r\\=σX​σY​Cov(X,Y)\n",
        "\n",
        "Where:\n",
        "\n",
        "1. σ X and 𝜎 𝑌 are the standard deviations of X and Y.\n",
        "\n",
        "\n",
        "\n",
        "Let’s calculate covariance and correlation for the dataset:\n",
        "\n",
        "\n",
        "\n",
        "Step-by-Step:\n",
        "\n",
        "\n",
        "\n",
        "1. Find the means of X and Y:\n",
        "\n",
        "(A) “Xˉ\\=51+2+3+4+5​\\=3”\n",
        "\n",
        "(B) “Yˉ\\=50+55+60+65+705\\=60\\\\bar{Y} = \\\\frac{50+55+60+65+70}{5} = 60Yˉ\\=550+55+60+65+70​\\=60”\n",
        "\n",
        "\n",
        "2. Calculate covariance:\n",
        "\n",
        "\n",
        "“Cov(X,Y)\\=5(1−3)(50−60)+(2−3)(55−60)+(3−3)(60−60)+(4−3)(65−60)+(5−3)(70−60)​”\n",
        "\n",
        "\n",
        "“Cov(X,Y)\\=5(2)(10)+(1)(5)+(0)(0)+(1)(5)+(2)(10)​\\=540+5+5+20​\\=14”\n",
        "\n",
        "\n",
        "3. Calculate correlation:\n",
        "\n",
        "(A) σ X (std. dev. of X) = 1.41 (approx.)\n",
        "\n",
        "(B) 𝜎 𝑌  (std. dev. of Y) = 7.07 (approx.)\n",
        "\n",
        "\n",
        "\n",
        "“r\\=1.41×7.0714​≈1”\n",
        "\n",
        "\n",
        "\n",
        "Interpretation:\n",
        "\n",
        "\n",
        "1.  Covariance = 14: A positive covariance indicates a positive relationship between hours studied and test scores. As study hours increase, test scores also tend to increase.\n",
        "\n",
        "\n",
        "2.  Correlation = 1: The perfect positive correlation indicates a strong linear relationship. This means that hours studied and test scores have a perfect positive linear relationship in this dataset.\n",
        "\n",
        "\n",
        "\n",
        "\n",
        ""
      ],
      "metadata": {
        "id": "efiA0biUAli4"
      }
    }
  ]
}